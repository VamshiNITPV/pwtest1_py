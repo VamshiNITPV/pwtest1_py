{
 "cells": [
  {
   "cell_type": "markdown",
   "id": "2500d190-1078-4c6d-815b-0634157265eb",
   "metadata": {},
   "source": [
    "# 1. Write a code to reverse a string."
   ]
  },
  {
   "cell_type": "code",
   "execution_count": 4,
   "id": "75c0c706-bcfc-4995-83e4-38ec8db6ac17",
   "metadata": {},
   "outputs": [
    {
     "name": "stdout",
     "output_type": "stream",
     "text": [
      "jihgfedcba\n"
     ]
    }
   ],
   "source": [
    "str=\"abcdefghij\"\n",
    "print(str[::-1])"
   ]
  },
  {
   "cell_type": "markdown",
   "id": "837c7ce3-b2f5-4de0-ad24-1baffd34cd80",
   "metadata": {},
   "source": [
    "# 2. Write a code to count the number of vowels in string."
   ]
  },
  {
   "cell_type": "code",
   "execution_count": 3,
   "id": "e38a853c-beb6-43cc-8e61-5c995af5e2d3",
   "metadata": {},
   "outputs": [
    {
     "name": "stdout",
     "output_type": "stream",
     "text": [
      "5\n"
     ]
    }
   ],
   "source": [
    "str2=\"abcdefghijklmnopqrstuvwxyz\"\n",
    "vowels=\"aeiouAEIOU\"\n",
    "count=sum(str2.count(vowel) for vowel in vowels)  \n",
    "print(count)\n",
    "\n"
   ]
  },
  {
   "cell_type": "code",
   "execution_count": 5,
   "id": "71698740-3b29-4394-8481-5a62bee44f04",
   "metadata": {},
   "outputs": [
    {
     "name": "stdout",
     "output_type": "stream",
     "text": [
      "5\n"
     ]
    }
   ],
   "source": [
    "cnt=0\n",
    "for vowel in vowels:\n",
    "    if(vowel in str2):\n",
    "        cnt=cnt+1\n",
    "print(cnt)        "
   ]
  },
  {
   "cell_type": "markdown",
   "id": "7e1cdca3-7bdf-4530-a894-f0e33cadfb07",
   "metadata": {},
   "source": [
    "# 3. Write a code to check if a given string is a palindrome."
   ]
  },
  {
   "cell_type": "code",
   "execution_count": 9,
   "id": "2f1cfd3e-baa3-408e-a4ed-72c6692f1fd7",
   "metadata": {},
   "outputs": [
    {
     "name": "stdout",
     "output_type": "stream",
     "text": [
      "It is a Palindrome\n"
     ]
    }
   ],
   "source": [
    "str3=\"abcdcba\"\n",
    "str3_2=str3[::-1]\n",
    "if(str3==str3_2):\n",
    "   print(\"It is a Palindrome\")\n",
    "else:\n",
    "   print(\"It is not a Palindrome\")"
   ]
  },
  {
   "cell_type": "markdown",
   "id": "970c9875-3785-484c-8645-0b1b03564466",
   "metadata": {},
   "source": [
    "# 4. Write a code to check if two given strings are anagrams of each other."
   ]
  },
  {
   "cell_type": "code",
   "execution_count": 13,
   "id": "7b1bd2cd-9fb5-4291-94b4-1065e193f159",
   "metadata": {},
   "outputs": [
    {
     "name": "stdout",
     "output_type": "stream",
     "text": [
      "race and care are anagrams\n"
     ]
    }
   ],
   "source": [
    "str1=\"Race\"\n",
    "str2=\"Care\"\n",
    "str1=str1.lower()\n",
    "str2=str2.lower()\n",
    "if(len(str1)==len(str2)):\n",
    "    sorted_str1=sorted(str1)\n",
    "    sorted_str2=sorted(str2)\n",
    "    if(sorted_str1==sorted_str2):\n",
    "        print(str1+\" and \"+str2+ \" are anagrams\" )\n",
    "    else:\n",
    "        print(str1+\" and \"+str2+ \" are not anagrams\")\n",
    "else:\n",
    "    print(str1+\" and \"+str2+ \" are not anagrams\")\n",
    "    "
   ]
  },
  {
   "cell_type": "markdown",
   "id": "939de776-2e02-476a-9e38-d41bbf367280",
   "metadata": {
    "tags": []
   },
   "source": [
    "# 5. Write a code to find all the occurrences of a given substring within another string."
   ]
  },
  {
   "cell_type": "code",
   "execution_count": 19,
   "id": "7f15488f-f3f2-4544-8bab-a748358b848d",
   "metadata": {},
   "outputs": [
    {
     "name": "stdout",
     "output_type": "stream",
     "text": [
      "0 10 "
     ]
    }
   ],
   "source": [
    "str=\"helloworldhello\"\n",
    "s=\"hello\"\n",
    "flag = False\n",
    "\n",
    "for i in range(len(str)):\n",
    "    if(str[i:i+len(s)]==s):\n",
    "        print(i,end=\" \")\n",
    "        flag=True\n",
    "if(flag==False):\n",
    "    print(\"NONE\")\n",
    "        "
   ]
  },
  {
   "cell_type": "markdown",
   "id": "8dcf5a5f-545f-4090-94a0-59ac0c8f9240",
   "metadata": {},
   "source": [
    "# 6. Write a code to perform basic string compression using the counts of repeated characters."
   ]
  },
  {
   "cell_type": "code",
   "execution_count": 20,
   "id": "48352eb8-3e9f-4aed-b4b0-432b2ded215e",
   "metadata": {},
   "outputs": [
    {
     "name": "stdout",
     "output_type": "stream",
     "text": [
      "a2b1c5a3\n"
     ]
    }
   ],
   "source": [
    "s = \"aabcccccaaa\"\n",
    "\n",
    "if s:\n",
    "    compressed = []\n",
    "    count = 1\n",
    "\n",
    "    for i in range(1, len(s)):\n",
    "        if s[i] == s[i - 1]:\n",
    "            count += 1\n",
    "        else:\n",
    "            compressed.append(f\"{s[i - 1]}{count}\")\n",
    "            count = 1\n",
    "    compressed.append(f\"{s[-1]}{count}\")\n",
    "\n",
    "    compressed_string = ''.join(compressed)\n",
    "    result = compressed_string if len(compressed_string) < len(s) else s\n",
    "else:\n",
    "    result = \"\"\n",
    "\n",
    "print(result)  # Output: a2b1c5a3"
   ]
  },
  {
   "cell_type": "markdown",
   "id": "cd3610f1-1233-458b-b197-25be1ce878f0",
   "metadata": {},
   "source": [
    "# 7. Write a code to determine if a string has all unique characters."
   ]
  },
  {
   "cell_type": "code",
   "execution_count": 31,
   "id": "b3f98951-6683-424d-87eb-43db87e7db08",
   "metadata": {},
   "outputs": [
    {
     "name": "stdout",
     "output_type": "stream",
     "text": [
      "True\n"
     ]
    }
   ],
   "source": [
    "from collections import Counter\n",
    " \n",
    " \n",
    "def isUniqueChars(string):\n",
    " \n",
    "    # Counting frequency\n",
    "    freq = Counter(string)\n",
    " \n",
    "    if(len(freq) == len(string)):\n",
    "        return True\n",
    "    else:\n",
    "        return False\n",
    " \n",
    "# driver code\n",
    "st = \"abcde\"\n",
    "print(isUniqueChars(st))\n",
    "# This code is contributed by vikkycirus"
   ]
  },
  {
   "cell_type": "code",
   "execution_count": 9,
   "id": "914683cd-e80d-4211-9457-28b72a105ec7",
   "metadata": {},
   "outputs": [
    {
     "name": "stdout",
     "output_type": "stream",
     "text": [
      "not Unique\n"
     ]
    }
   ],
   "source": [
    "str=\"abcd\"\n",
    "a=\"\"\n",
    "flag=True\n",
    "for i in str:\n",
    "    if (i in a):\n",
    "        flag=False\n",
    "        break\n",
    "    else:\n",
    "        a=a+i\n",
    "if(flag==True):\n",
    "    print(\"Unique\")\n",
    "else:\n",
    "    print(\"not Unique\")\n"
   ]
  },
  {
   "cell_type": "code",
   "execution_count": 40,
   "id": "ebe3be95-2528-41a3-aab7-90a4b01866f6",
   "metadata": {},
   "outputs": [
    {
     "name": "stdout",
     "output_type": "stream",
     "text": [
      "True\n"
     ]
    }
   ],
   "source": [
    "def isUniqueChars(string):\n",
    " \n",
    "    for i in string:\n",
    "        if string.count(i) > 1:\n",
    "            return False\n",
    "    return True\n",
    " \n",
    " \n",
    "st = \"abcd\"\n",
    "print(isUniqueChars(st))"
   ]
  },
  {
   "cell_type": "code",
   "execution_count": 10,
   "id": "bd77d3f0-8d48-43d3-9435-0a052e237f2d",
   "metadata": {},
   "outputs": [
    {
     "name": "stdout",
     "output_type": "stream",
     "text": [
      "Unique\n"
     ]
    }
   ],
   "source": [
    "str=\"abcd\"\n",
    "a=\"\"\n",
    "flag=True\n",
    "for i in range(len(str)):\n",
    "    str2=str[i+1:]\n",
    "    if (str[i] in str2):\n",
    "        flag=False\n",
    "        break\n",
    "if(flag==True):\n",
    "    print(\"Unique\")\n",
    "else:\n",
    "    print(\"not Unique\")"
   ]
  },
  {
   "cell_type": "markdown",
   "id": "b938ef11-9c7c-45c9-9c23-5fc2825ad50c",
   "metadata": {},
   "source": [
    "# 8. Write a code to convert a given string to uppercase or lowercase."
   ]
  },
  {
   "cell_type": "code",
   "execution_count": 53,
   "id": "ed0cfad7-653e-4600-94b3-2bdd83de69cd",
   "metadata": {},
   "outputs": [
    {
     "name": "stdout",
     "output_type": "stream",
     "text": [
      "converting to upper case - HELLOWORLD\n",
      "converting to lower case - helloworld\n"
     ]
    }
   ],
   "source": [
    "def to_upper(str):\n",
    "    str=str.upper()\n",
    "    return str\n",
    "def to_lower(str):\n",
    "    str=str.lower()\n",
    "    return str\n",
    "\n",
    "str=\"HelloWorld\"\n",
    "print(\"converting to upper case -\",to_upper(str))\n",
    "print(\"converting to lower case -\",to_lower(str))\n"
   ]
  },
  {
   "cell_type": "markdown",
   "id": "4d1297a9-ba7d-4e68-b94e-5a91d79c2ef0",
   "metadata": {},
   "source": [
    "# 9. Write a code to count the number of words "
   ]
  },
  {
   "cell_type": "code",
   "execution_count": 11,
   "id": "0030a1fa-294e-432f-962f-dfbcada77be6",
   "metadata": {},
   "outputs": [
    {
     "name": "stdout",
     "output_type": "stream",
     "text": [
      "6\n"
     ]
    }
   ],
   "source": [
    "print(len(\"Geeksforgeeks is best Computer Science Portal\".split(\" \")))"
   ]
  },
  {
   "cell_type": "markdown",
   "id": "14fcbcfb-eeaa-4945-93f4-6ad97e3067e5",
   "metadata": {},
   "source": [
    "# 10.  Write a code to concatenate two strings without using the + operator."
   ]
  },
  {
   "cell_type": "code",
   "execution_count": 68,
   "id": "4d99245a-332e-4473-807e-fb6fb5c3ffac",
   "metadata": {},
   "outputs": [
    {
     "data": {
      "text/plain": [
       "'hello   world'"
      ]
     },
     "execution_count": 68,
     "metadata": {},
     "output_type": "execute_result"
    }
   ],
   "source": [
    "str1=\"hello\"\n",
    "str2=\"world\"\n",
    "str3=\" \".join([str1,str2])\n",
    "str3"
   ]
  },
  {
   "cell_type": "code",
   "execution_count": 71,
   "id": "0a706f94-c2dd-409c-8b61-ab75fb399680",
   "metadata": {},
   "outputs": [
    {
     "data": {
      "text/plain": [
       "'hello world'"
      ]
     },
     "execution_count": 71,
     "metadata": {},
     "output_type": "execute_result"
    }
   ],
   "source": [
    "var1=\"hello\"\n",
    "var2=\"world\"\n",
    "var3=\"{} {}\".format(var1,var2)\n",
    "var3"
   ]
  },
  {
   "cell_type": "code",
   "execution_count": 72,
   "id": "3b50b38e-d58e-4da2-a1d2-ac094d9cdbaa",
   "metadata": {},
   "outputs": [
    {
     "data": {
      "text/plain": [
       "'hello world'"
      ]
     },
     "execution_count": 72,
     "metadata": {},
     "output_type": "execute_result"
    }
   ],
   "source": [
    "var1=\"hello\"\n",
    "var2=\"world\"\n",
    "var3=f\"{var1} {var2}\"\n",
    "var3"
   ]
  },
  {
   "cell_type": "markdown",
   "id": "fdaef881-c236-4c77-9ba7-86eadcbd3978",
   "metadata": {},
   "source": [
    "# 11. Write a code to remove all occurrences of a specific element from a list."
   ]
  },
  {
   "cell_type": "code",
   "execution_count": 20,
   "id": "b60afc04-f776-43c3-a161-1e1813683631",
   "metadata": {},
   "outputs": [
    {
     "name": "stdout",
     "output_type": "stream",
     "text": [
      "[1, 2, 3, 4, 5, 5, 5, 6, 6, 6, 7, 7, 7, 8, 8, 8, 9, 9, 10]\n"
     ]
    }
   ],
   "source": [
    "my_list = [1, 2, 3, 4, 2, 5, 2]\n",
    "element_to_remove = 2\n",
    "\n",
    "my_list = [item for item in my_list if item != element_to_remove]\n",
    "\n",
    "print(my_list)  # Output: [1, 3, 4, 5]"
   ]
  },
  {
   "cell_type": "markdown",
   "id": "9c4ba706-06d3-4112-9b35-b3de0e8a3bda",
   "metadata": {},
   "source": [
    "# 12. Implement a code to find the second largest number in a given list of intergers."
   ]
  },
  {
   "cell_type": "code",
   "execution_count": 26,
   "id": "62664005-ffe6-40bf-9f28-df4f2e3a959b",
   "metadata": {},
   "outputs": [
    {
     "data": {
      "text/plain": [
       "34"
      ]
     },
     "execution_count": 26,
     "metadata": {},
     "output_type": "execute_result"
    }
   ],
   "source": [
    "list=[1,2,3,5,34,3,5,3,2,55]\n",
    "list.sort()\n",
    "list[len(list)-2]"
   ]
  },
  {
   "cell_type": "code",
   "execution_count": 27,
   "id": "7a33c621-9984-4b8c-9347-a0147c555849",
   "metadata": {},
   "outputs": [
    {
     "name": "stdout",
     "output_type": "stream",
     "text": [
      "45\n"
     ]
    }
   ],
   "source": [
    "def find_second_largest(nums):\n",
    "    if len(nums) < 2:\n",
    "        return None  # Not enough elements for a second largest\n",
    "    \n",
    "    first_largest = second_largest = float('-inf')\n",
    "    \n",
    "    for num in nums:\n",
    "        if num > first_largest:\n",
    "            second_largest = first_largest\n",
    "            first_largest = num\n",
    "        elif first_largest > num > second_largest:\n",
    "            second_largest = num\n",
    "    \n",
    "    return second_largest if second_largest != float('-inf') else None\n",
    "\n",
    "# Example usage\n",
    "my_list = [10, 20, 4, 45, 99]\n",
    "result = find_second_largest(my_list)\n",
    "print(result)  # Output: 45\n"
   ]
  },
  {
   "cell_type": "markdown",
   "id": "cd6e53b5-bf11-4506-9827-c03050703309",
   "metadata": {},
   "source": [
    "# 13. Create a code to count the occurrences of each element in a list and return a dictionary with elements as keys and their counts as values."
   ]
  },
  {
   "cell_type": "code",
   "execution_count": 3,
   "id": "6be964b6-6188-4239-8873-d4b006832f51",
   "metadata": {},
   "outputs": [
    {
     "name": "stdout",
     "output_type": "stream",
     "text": [
      "{1: 2, 2: 3, 3: 2, 4: 2, 5: 4}\n"
     ]
    }
   ],
   "source": [
    "list=[1,2,2,2,3,3,4,4,5,5,5,5,1]\n",
    "dict={}\n",
    "for item in list:\n",
    "    if item in dict:\n",
    "        dict[item]+=1\n",
    "    else:\n",
    "        dict[item]=1\n",
    "print(dict)    "
   ]
  },
  {
   "cell_type": "markdown",
   "id": "a62c6e05-e8ed-4221-a33f-05bb4461009d",
   "metadata": {},
   "source": [
    "# 14. Write a code to reverse a list in-place without using any built-in reverse functions."
   ]
  },
  {
   "cell_type": "code",
   "execution_count": 38,
   "id": "82dc078e-f9e3-40b2-8ab7-65b54c1a528f",
   "metadata": {},
   "outputs": [
    {
     "name": "stdout",
     "output_type": "stream",
     "text": [
      "[5, 4, 3, 2, 1]\n"
     ]
    }
   ],
   "source": [
    "list2=[1,2,3,4,5]\n",
    "l=0\n",
    "r=len(list2)-1\n",
    "while l < r:\n",
    "    list2[l], list2[r] = list2[r], list2[l]\n",
    "    l+= 1\n",
    "    r-= 1\n",
    "print(list2)  # Output: [5, 4, 3, 2, 1]"
   ]
  },
  {
   "cell_type": "markdown",
   "id": "922613f2-5a15-4ed6-b4e2-f4abe989eead",
   "metadata": {},
   "source": [
    "# 15. Implement a code to find and remove duplicates from a list while preseving the original order of elements."
   ]
  },
  {
   "cell_type": "code",
   "execution_count": 10,
   "id": "7a3f1c3d-dd87-4569-9f72-d092b4cb60d9",
   "metadata": {},
   "outputs": [
    {
     "name": "stdout",
     "output_type": "stream",
     "text": [
      "[1, 2, 3, 4, 5]\n",
      "{1, 2, 3, 4, 5}\n"
     ]
    }
   ],
   "source": [
    "my_list=[1,2,2,3,4,4,5,1]\n",
    "unique_list=[]\n",
    "seen=set()\n",
    "for item in my_list:\n",
    "    if item not in unique_list:\n",
    "        unique_list.append(item)\n",
    "        seen.add(item)\n",
    "print(unique_list)        \n",
    "print(seen)"
   ]
  },
  {
   "cell_type": "markdown",
   "id": "11696138-8732-48bb-95b1-6c5213bc93fd",
   "metadata": {},
   "source": [
    "# 16. Create a code to check if a given list si sorted (either in acending or descending order) or not."
   ]
  },
  {
   "cell_type": "code",
   "execution_count": 11,
   "id": "f67f3660-e061-4f62-afdd-3eddf2d86ad8",
   "metadata": {},
   "outputs": [
    {
     "name": "stdout",
     "output_type": "stream",
     "text": [
      "Ascending\n",
      "Descending\n",
      "Not sorted\n"
     ]
    }
   ],
   "source": [
    "def is_sorted(input_list):\n",
    "    if input_list == sorted(input_list):\n",
    "        return \"Ascending\"\n",
    "    elif input_list == sorted(input_list, reverse=True):\n",
    "        return \"Descending\"\n",
    "    else:\n",
    "        return \"Not sorted\"\n",
    "\n",
    "input_list_ascending = [1, 2, 3, 4, 5]\n",
    "input_list_descending = [5, 4, 3, 2, 1]\n",
    "input_list_unsorted = [3, 1, 4, 2, 5]\n",
    "\n",
    "print(is_sorted(input_list_ascending))  # Output: Ascending\n",
    "print(is_sorted(input_list_descending)) # Output: Descending\n",
    "print(is_sorted(input_list_unsorted))   # Output: Not sorted\n"
   ]
  },
  {
   "cell_type": "markdown",
   "id": "40fccfee-af51-4580-803d-d409570d0f90",
   "metadata": {},
   "source": [
    "# 17. Write a code to merge two sorted lists into a single sorted list."
   ]
  },
  {
   "cell_type": "code",
   "execution_count": 17,
   "id": "62abc1f4-74fa-4af3-8c51-b6ca1903565e",
   "metadata": {},
   "outputs": [
    {
     "data": {
      "text/plain": [
       "[1, 2, 3, 4, 5, 6, 7, 8]"
      ]
     },
     "execution_count": 17,
     "metadata": {},
     "output_type": "execute_result"
    }
   ],
   "source": [
    "list1=[1,3,5,7]\n",
    "list2=[2,4,6,8]\n",
    "m=len(list1)\n",
    "n=len(list2)\n",
    "for i in list2:\n",
    "    list1.append(i)\n",
    "sorted_list=sorted(list1)\n",
    "sorted_list"
   ]
  },
  {
   "cell_type": "code",
   "execution_count": 20,
   "id": "717bb1e1-2d4c-4d8a-a8fd-ba974c19fcda",
   "metadata": {},
   "outputs": [
    {
     "data": {
      "text/plain": [
       "[1, 2, 3, 4, 5, 6, 7, 8]"
      ]
     },
     "execution_count": 20,
     "metadata": {},
     "output_type": "execute_result"
    }
   ],
   "source": [
    "list1=[1,3,5,7]\n",
    "list2=[2,4,6,8]\n",
    "m=len(list1)\n",
    "n=len(list2)\n",
    "i,j=0,0\n",
    "list3=[]\n",
    "while (i<m and j<n):\n",
    "    if (list1[i]<=list2[j]):\n",
    "        list3.append(list1[i])\n",
    "        i=i+1\n",
    "    else:\n",
    "        list3.append(list2[j])\n",
    "        j=j+1\n",
    "while(i<m):\n",
    "    list3.append(list1[i])\n",
    "    i=i+1\n",
    "while(j<n):\n",
    "    list3.append(list2[j])\n",
    "    j=j+1\n",
    "list3    "
   ]
  },
  {
   "cell_type": "markdown",
   "id": "7e1a5a52-b70b-43d8-92d3-c13237cf9d24",
   "metadata": {},
   "source": [
    "### 18. Implement a code to find the instrsection of two given lists."
   ]
  },
  {
   "cell_type": "code",
   "execution_count": 1,
   "id": "7eaf32d2-c3e0-49a7-8081-080d6ace9fbf",
   "metadata": {},
   "outputs": [
    {
     "name": "stdout",
     "output_type": "stream",
     "text": [
      "Intersection of the two lists: [4, 5]\n"
     ]
    }
   ],
   "source": [
    "def find_intersection(list1, list2):\n",
    "    \"\"\"Find the intersection of two lists.\"\"\"\n",
    "    return list(set(list1) & set(list2))\n",
    "\n",
    "# Example usage:\n",
    "list1 = [1, 2, 3, 4, 5]\n",
    "list2 = [4, 5, 6, 7, 8]\n",
    "intersection = find_intersection(list1, list2)\n",
    "print(\"Intersection of the two lists:\", intersection)"
   ]
  },
  {
   "cell_type": "markdown",
   "id": "d067ccc4-c925-4b39-b25b-a76588985e7c",
   "metadata": {},
   "source": [
    "### 19. Create a code to find the union of two list without duplicates."
   ]
  },
  {
   "cell_type": "code",
   "execution_count": 2,
   "id": "7af6c150-ee6a-4e97-8514-64d252d69c87",
   "metadata": {},
   "outputs": [
    {
     "name": "stdout",
     "output_type": "stream",
     "text": [
      "Union of the two lists without duplicates: [1, 2, 3, 4, 5, 6, 7, 8]\n"
     ]
    }
   ],
   "source": [
    "def union_lists(list1, list2):\n",
    "    \"\"\"Find the union of two lists without duplicates.\"\"\"\n",
    "    return list(set(list1) | set(list2))\n",
    "\n",
    "# Example usage:\n",
    "list1 = [1, 2, 3, 4, 5]\n",
    "list2 = [4, 5, 6, 7, 8]\n",
    "union = union_lists(list1, list2)\n",
    "print(\"Union of the two lists without duplicates:\", union)"
   ]
  },
  {
   "cell_type": "markdown",
   "id": "819bee68-eb1f-4971-95a4-8ae05eb56c7c",
   "metadata": {},
   "source": [
    "### 20. Write a code to shuffle a given list randomly without using any built-in shuffle functions."
   ]
  },
  {
   "cell_type": "code",
   "execution_count": 3,
   "id": "31718244-b727-41a5-832a-5cad6ce9c095",
   "metadata": {},
   "outputs": [
    {
     "name": "stdout",
     "output_type": "stream",
     "text": [
      "Original list: [1, 2, 3, 4, 5, 6, 7, 8, 9, 10]\n",
      "Shuffled list: [4, 7, 10, 3, 5, 8, 2, 6, 1, 9]\n"
     ]
    }
   ],
   "source": [
    "import random\n",
    "\n",
    "def fisher_yates_shuffle(lst):\n",
    "    \"\"\"Shuffle a list using the Fisher-Yates algorithm.\"\"\"\n",
    "    n = len(lst)\n",
    "    for i in range(n-1, 0, -1):\n",
    "        j = random.randint(0, i)\n",
    "        lst[i], lst[j] = lst[j], lst[i]\n",
    "    return lst\n",
    "\n",
    "# Example usage:\n",
    "original_list = [1, 2, 3, 4, 5, 6, 7, 8, 9, 10]\n",
    "shuffled_list = fisher_yates_shuffle(original_list.copy())\n",
    "print(\"Original list:\", original_list)\n",
    "print(\"Shuffled list:\", shuffled_list)\n"
   ]
  },
  {
   "cell_type": "markdown",
   "id": "c8d075ed-5299-4a89-8712-46893f74dad9",
   "metadata": {},
   "source": [
    "### 21. Write a code that takes two tuples as input and returns a new tuple containing elements that are common to both input tuples."
   ]
  },
  {
   "cell_type": "code",
   "execution_count": 4,
   "id": "d695b5c7-4046-48fa-8481-ecaeed46084c",
   "metadata": {},
   "outputs": [
    {
     "name": "stdout",
     "output_type": "stream",
     "text": [
      "Common elements: (4, 5)\n"
     ]
    }
   ],
   "source": [
    "def common_elements(tuple1, tuple2):\n",
    "    \"\"\"Find common elements between two tuples.\"\"\"\n",
    "    return tuple(set(tuple1) & set(tuple2))\n",
    "\n",
    "# Example usage:\n",
    "tuple1 = (1, 2, 3, 4, 5)\n",
    "tuple2 = (4, 5, 6, 7, 8)\n",
    "common_tuple = common_elements(tuple1, tuple2)\n",
    "print(\"Common elements:\", common_tuple)"
   ]
  },
  {
   "cell_type": "markdown",
   "id": "589c80e1-cf5d-4c24-bc1d-33311423ac3a",
   "metadata": {},
   "source": [
    "### 22. Create a code that prompts the user to entertwo sets of intergers separated by commas. Then, print the intersection of these two sets."
   ]
  },
  {
   "cell_type": "code",
   "execution_count": 7,
   "id": "a2265d06-cca5-46b9-9ee8-27fea27f0575",
   "metadata": {},
   "outputs": [
    {
     "name": "stdin",
     "output_type": "stream",
     "text": [
      "Enter the first set of integers separated by commas:  1,2,3,4\n",
      "Enter the second set of integers separated by commas:  1,4,7,2\n"
     ]
    },
    {
     "name": "stdout",
     "output_type": "stream",
     "text": [
      "Intersection of the two sets: {1, 2, 4}\n"
     ]
    }
   ],
   "source": [
    "def get_set_from_input(prompt):\n",
    "    \"\"\"Prompt the user to enter a set of integers separated by commas.\"\"\"\n",
    "    return set(map(int, input(prompt).split(',')))\n",
    "\n",
    "# Prompt the user to enter two sets of integers\n",
    "set1 = get_set_from_input(\"Enter the first set of integers separated by commas: \")\n",
    "set2 = get_set_from_input(\"Enter the second set of integers separated by commas: \")\n",
    "\n",
    "# Find the intersection of the two sets\n",
    "intersection = set1 & set2\n",
    "\n",
    "# Print the intersection\n",
    "print(\"Intersection of the two sets:\", intersection)"
   ]
  },
  {
   "cell_type": "markdown",
   "id": "c6045dd7-620f-49f4-b6f1-c4dfdf2d7d67",
   "metadata": {},
   "source": [
    "### 23. Write a code to concatenate two tuples. The functions should take two tuples as input and return a new tuple contanining elements from both input tuples."
   ]
  },
  {
   "cell_type": "code",
   "execution_count": 8,
   "id": "b8a13aeb-2b17-4513-b96d-7723b0790996",
   "metadata": {},
   "outputs": [
    {
     "name": "stdout",
     "output_type": "stream",
     "text": [
      "Concatenated tuple: (1, 2, 3, 4, 5, 6)\n"
     ]
    }
   ],
   "source": [
    "def concatenate_tuples(tuple1, tuple2):\n",
    "    \"\"\"Concatenate two tuples.\"\"\"\n",
    "    return tuple1 + tuple2\n",
    "\n",
    "# Example usage:\n",
    "tuple1 = (1, 2, 3)\n",
    "tuple2 = (4, 5, 6)\n",
    "result = concatenate_tuples(tuple1, tuple2)\n",
    "print(\"Concatenated tuple:\", result)\n"
   ]
  },
  {
   "cell_type": "markdown",
   "id": "b2780bfb-2b35-487d-84d2-a8171142fa24",
   "metadata": {},
   "source": [
    "### 24. Develop a code that prompts the user to input two sets of strings. Then, print the elements that are present in the first set but not in the second set."
   ]
  },
  {
   "cell_type": "code",
   "execution_count": 9,
   "id": "a5bd3eb5-1219-4878-bbb3-31c571379b8d",
   "metadata": {},
   "outputs": [
    {
     "name": "stdin",
     "output_type": "stream",
     "text": [
      "Enter the first set of strings separated by commas:  1,2,3,6,5,4\n",
      "Enter the second set of strings separated by commas:  7,8,9,6,5,4\n"
     ]
    },
    {
     "name": "stdout",
     "output_type": "stream",
     "text": [
      "Elements in the first set but not in the second set: {'3', '1', '2'}\n"
     ]
    }
   ],
   "source": [
    "def get_set_from_input(prompt):\n",
    "    \"\"\"Prompt the user to enter a set of strings separated by commas.\"\"\"\n",
    "    return set(input(prompt).split(','))\n",
    "\n",
    "# Prompt the user to enter two sets of strings\n",
    "set1 = get_set_from_input(\"Enter the first set of strings separated by commas: \")\n",
    "set2 = get_set_from_input(\"Enter the second set of strings separated by commas: \")\n",
    "\n",
    "# Find the elements present in the first set but not in the second set\n",
    "difference = set1 - set2\n",
    "\n",
    "# Print the difference\n",
    "print(\"Elements in the first set but not in the second set:\", difference)\n"
   ]
  },
  {
   "cell_type": "markdown",
   "id": "ac5d760a-4979-4e35-9883-c01e57e899b5",
   "metadata": {},
   "source": [
    "### 25. Create a code that takes a tuple and two integers as input. The function should return a new tuple containing elements from the original tuple within the specified rangeofindices."
   ]
  },
  {
   "cell_type": "code",
   "execution_count": 1,
   "id": "4047cc41-b4f0-4171-85a9-bd256453aa55",
   "metadata": {},
   "outputs": [
    {
     "name": "stdout",
     "output_type": "stream",
     "text": [
      "Extracted elements: (3, 4, 5, 6)\n"
     ]
    }
   ],
   "source": [
    "def extract_elements_in_range(input_tuple, start_index, end_index):\n",
    "    \"\"\"Extract elements from the tuple within the specified range of indices.\"\"\"\n",
    "    return input_tuple[start_index:end_index]\n",
    "\n",
    "# Example usage:\n",
    "input_tuple = (1, 2, 3, 4, 5, 6, 7, 8, 9, 10)\n",
    "start_index = 2\n",
    "end_index = 6\n",
    "result = extract_elements_in_range(input_tuple, start_index, end_index)\n",
    "print(\"Extracted elements:\", result)"
   ]
  },
  {
   "cell_type": "markdown",
   "id": "d407f563-f79e-4261-a374-c0988ab65d8a",
   "metadata": {},
   "source": [
    "### 26. Write a code that prompts the user to input two sets of characters. Then, print the union of these two sets."
   ]
  },
  {
   "cell_type": "code",
   "execution_count": 2,
   "id": "b655b9aa-bb30-48ec-9e14-2e25bd1e0e24",
   "metadata": {},
   "outputs": [
    {
     "name": "stdin",
     "output_type": "stream",
     "text": [
      "Enter the first set of characters separated by commas:  d,a,d,f,e,d,c\n",
      "Enter the second set of characters separated by commas:  e,d,d,d,a,d,d,,g,h,r\n"
     ]
    },
    {
     "name": "stdout",
     "output_type": "stream",
     "text": [
      "Union of the two sets: {'', 'f', 'e', 'd', 'g', 'a', 'r', 'c', 'h'}\n"
     ]
    }
   ],
   "source": [
    "def get_set_from_input(prompt):\n",
    "    \"\"\"Prompt the user to enter a set of characters separated by commas.\"\"\"\n",
    "    return set(input(prompt).split(','))\n",
    "\n",
    "# Prompt the user to enter two sets of characters\n",
    "set1 = get_set_from_input(\"Enter the first set of characters separated by commas: \")\n",
    "set2 = get_set_from_input(\"Enter the second set of characters separated by commas: \")\n",
    "\n",
    "# Find the union of the two sets\n",
    "union_set = set1 | set2\n",
    "\n",
    "# Print the union\n",
    "print(\"Union of the two sets:\", union_set)"
   ]
  },
  {
   "cell_type": "markdown",
   "id": "65e26069-6893-4e86-b315-2d19363fe5c1",
   "metadata": {},
   "source": [
    "### 27. Develop a code that takes a tuple of integers as input. The function should return the maximum and minimum values from the tuple using tuple unpacking."
   ]
  },
  {
   "cell_type": "code",
   "execution_count": 3,
   "id": "0786bf70-1b36-42fa-9bec-beed073eac7a",
   "metadata": {},
   "outputs": [
    {
     "name": "stdout",
     "output_type": "stream",
     "text": [
      "Maximum value: 9\n",
      "Minimum value: 1\n"
     ]
    }
   ],
   "source": [
    "def find_max_min(input_tuple):\n",
    "    \"\"\"Return the maximum and minimum values from the tuple using tuple unpacking.\"\"\"\n",
    "    max_value = max(input_tuple)\n",
    "    min_value = min(input_tuple)\n",
    "    return max_value, min_value\n",
    "\n",
    "# Example usage:\n",
    "input_tuple = (3, 1, 4, 1, 5, 9, 2, 6, 5, 3, 5)\n",
    "max_val, min_val = find_max_min(input_tuple)\n",
    "print(\"Maximum value:\", max_val)\n",
    "print(\"Minimum value:\", min_val)"
   ]
  },
  {
   "cell_type": "markdown",
   "id": "1dbe6e1a-da45-4665-9aa4-e8ccda40fbea",
   "metadata": {},
   "source": [
    "### 28. Create a code that defines two sets of integers. Then, print the union, intersection, and difference of these two sets."
   ]
  },
  {
   "cell_type": "code",
   "execution_count": 4,
   "id": "20be76cd-c6ce-4d9a-ab5f-956661ca9ca1",
   "metadata": {},
   "outputs": [
    {
     "name": "stdout",
     "output_type": "stream",
     "text": [
      "Union of the two sets: {1, 2, 3, 4, 5, 6, 7, 8}\n",
      "Intersection of the two sets: {4, 5}\n",
      "Difference of the two sets: {1, 2, 3}\n"
     ]
    }
   ],
   "source": [
    "# Define two sets of integers\n",
    "set1 = {1, 2, 3, 4, 5}\n",
    "set2 = {4, 5, 6, 7, 8}\n",
    "\n",
    "# Calculate the union of the two sets\n",
    "union_set = set1 | set2\n",
    "\n",
    "# Calculate the intersection of the two sets\n",
    "intersection_set = set1 & set2\n",
    "\n",
    "# Calculate the difference of the two sets (elements in set1 but not in set2)\n",
    "difference_set = set1 - set2\n",
    "\n",
    "# Print the results\n",
    "print(\"Union of the two sets:\", union_set)\n",
    "print(\"Intersection of the two sets:\", intersection_set)\n",
    "print(\"Difference of the two sets:\", difference_set)"
   ]
  },
  {
   "cell_type": "markdown",
   "id": "da2a0487-9d7f-4543-8619-8ef8d6ce3c41",
   "metadata": {},
   "source": [
    "### 29. Write a code that takes a tuple and an element as input. The function should return the count of occurrences of the given element in the tuple."
   ]
  },
  {
   "cell_type": "code",
   "execution_count": 9,
   "id": "e643322c-c677-407e-b3e3-300a87d56e18",
   "metadata": {},
   "outputs": [
    {
     "name": "stdout",
     "output_type": "stream",
     "text": [
      "The element 2 occurs 3 times in the tuple.\n"
     ]
    }
   ],
   "source": [
    "\n",
    "def count_occurrences(input_tuple, element):\n",
    "    \"\"\"Return the count of occurrences of the given element in the tuple.\"\"\"\n",
    "    return input_tuple.count(element)\n",
    "\n",
    "# Example usage:\n",
    "input_tuple = (1, 2, 3, 2, 4, 2, 5)\n",
    "element = 2\n",
    "count = count_occurrences(input_tuple, element)\n",
    "print(f\"The element {element} occurs {count} times in the tuple.\")\n"
   ]
  },
  {
   "cell_type": "markdown",
   "id": "c46ffcbe-1861-4209-b16d-bb6ed8d88e9a",
   "metadata": {},
   "source": [
    "### 30. Develop a code that prompts the user to input two sets of strings. Then, print the symmetric difference of these two sets."
   ]
  },
  {
   "cell_type": "code",
   "execution_count": 11,
   "id": "d95e3e62-85bf-4919-8e00-231634d184bd",
   "metadata": {},
   "outputs": [
    {
     "name": "stdin",
     "output_type": "stream",
     "text": [
      "Enter the first set of strings separated by commas:  abcd\n",
      "Enter the second set of strings separated by commas:  fdsa\n"
     ]
    },
    {
     "name": "stdout",
     "output_type": "stream",
     "text": [
      "Symmetric difference of the two sets: {'fdsa', 'abcd'}\n"
     ]
    }
   ],
   "source": [
    "def get_set_from_input(prompt):\n",
    "    \"\"\"Prompt the user to enter a set of strings separated by commas.\"\"\"\n",
    "    return set(input(prompt).split(','))\n",
    "\n",
    "# Prompt the user to enter two sets of strings\n",
    "set1 = get_set_from_input(\"Enter the first set of strings separated by commas: \")\n",
    "set2 = get_set_from_input(\"Enter the second set of strings separated by commas: \")\n",
    "\n",
    "# Find the symmetric difference of the two sets\n",
    "symmetric_difference = set1.symmetric_difference(set2)\n",
    "\n",
    "# Print the symmetric difference\n",
    "print(\"Symmetric difference of the two sets:\", symmetric_difference)\n"
   ]
  },
  {
   "cell_type": "markdown",
   "id": "2929eea0-3927-42c0-b19e-47184ed11ec1",
   "metadata": {},
   "source": [
    "### 31. Write a code that takes a list of words as input and returns a dictionary where the keys are unique words and the values are the frequencies of those words in the input list."
   ]
  },
  {
   "cell_type": "code",
   "execution_count": 12,
   "id": "e1b1e60e-b2aa-474b-9496-c58c1307fdee",
   "metadata": {},
   "outputs": [
    {
     "name": "stdout",
     "output_type": "stream",
     "text": [
      "{'apple': 3, 'banana': 2, 'orange': 1}\n"
     ]
    }
   ],
   "source": [
    "def word_frequencies(word_list):\n",
    "    \"\"\"Return a dictionary with the frequency of each unique word in the input list.\"\"\"\n",
    "    frequency_dict = {}\n",
    "    for word in word_list:\n",
    "        if word in frequency_dict:\n",
    "            frequency_dict[word] += 1\n",
    "        else:\n",
    "            frequency_dict[word] = 1\n",
    "    return frequency_dict\n",
    "\n",
    "# Example usage:\n",
    "words = [\"apple\", \"banana\", \"apple\", \"orange\", \"banana\", \"apple\"]\n",
    "frequencies = word_frequencies(words)\n",
    "print(frequencies)"
   ]
  },
  {
   "cell_type": "markdown",
   "id": "e31bf3bf-ef1b-4e3e-b6f5-fe3a93a3d62b",
   "metadata": {},
   "source": [
    "### 32. Write a code that takes two dictionaries as input and merges them into a single dictionary. If there are common keys, the values should be added together"
   ]
  },
  {
   "cell_type": "code",
   "execution_count": 13,
   "id": "0e095f31-876e-425a-9c43-030d184c09d7",
   "metadata": {},
   "outputs": [
    {
     "name": "stdout",
     "output_type": "stream",
     "text": [
      "Merged dictionary: {'a': 10, 'b': 25, 'c': 45, 'd': 25}\n"
     ]
    }
   ],
   "source": [
    "def merge_dictionaries(dict1, dict2):\n",
    "    \"\"\"Merge two dictionaries, adding values for common keys.\"\"\"\n",
    "    merged_dict = dict1.copy()  # Start with a copy of the first dictionary\n",
    "    for key, value in dict2.items():\n",
    "        if key in merged_dict:\n",
    "            merged_dict[key] += value  # Add values for common keys\n",
    "        else:\n",
    "            merged_dict[key] = value  # Add new key-value pairs\n",
    "    return merged_dict\n",
    "\n",
    "# Example usage:\n",
    "dict1 = {'a': 10, 'b': 20, 'c': 30}\n",
    "dict2 = {'b': 5, 'c': 15, 'd': 25}\n",
    "result = merge_dictionaries(dict1, dict2)\n",
    "print(\"Merged dictionary:\", result)"
   ]
  },
  {
   "cell_type": "markdown",
   "id": "e5f1f15e-82cd-4fb3-8a38-e04d9ee48b79",
   "metadata": {},
   "source": [
    "### 33. Write a code to access a value in a nested dictionary. The function should take the dictionary and a list of keys as input, and return the corresponding value. If any of the keys do not exist in the dictionary, the function should return None."
   ]
  },
  {
   "cell_type": "code",
   "execution_count": 14,
   "id": "10e8cf4a-2fe8-44d8-a32c-142a8b94a46c",
   "metadata": {},
   "outputs": [
    {
     "name": "stdout",
     "output_type": "stream",
     "text": [
      "Value: 42\n",
      "Value: None\n"
     ]
    }
   ],
   "source": [
    "def get_nested_value(dictionary, keys):\n",
    "    \"\"\"Access a value in a nested dictionary using a list of keys.\"\"\"\n",
    "    for key in keys:\n",
    "        if isinstance(dictionary, dict) and key in dictionary:\n",
    "            dictionary = dictionary[key]\n",
    "        else:\n",
    "            return None\n",
    "    return dictionary\n",
    "\n",
    "# Example usage:\n",
    "nested_dict = {\n",
    "    'a': {\n",
    "        'b': {\n",
    "            'c': 42\n",
    "        }\n",
    "    }\n",
    "}\n",
    "keys = ['a', 'b', 'c']\n",
    "value = get_nested_value(nested_dict, keys)\n",
    "print(\"Value:\", value)  # Output: Value: 42\n",
    "\n",
    "# Example with a missing key:\n",
    "keys = ['a', 'b', 'd']\n",
    "value = get_nested_value(nested_dict, keys)\n",
    "print(\"Value:\", value)  # Output: Value: None"
   ]
  },
  {
   "cell_type": "markdown",
   "id": "240ac8ef-f492-4e74-a9a2-52f75e065e72",
   "metadata": {},
   "source": [
    "### 34. Write a code that takes a dictionary as input and returns a sorted version of it based on the values. You can choose whether to sort in ascending or descending order."
   ]
  },
  {
   "cell_type": "code",
   "execution_count": 15,
   "id": "772dd6e2-f8ce-45db-8632-1a19fddf7626",
   "metadata": {},
   "outputs": [
    {
     "name": "stdout",
     "output_type": "stream",
     "text": [
      "Sorted in ascending order: {'grape': 1, 'banana': 2, 'apple': 5, 'orange': 8}\n",
      "Sorted in descending order: {'orange': 8, 'apple': 5, 'banana': 2, 'grape': 1}\n"
     ]
    }
   ],
   "source": [
    "def sort_dict_by_values(input_dict, ascending=True):\n",
    "    \"\"\"Sort a dictionary by its values.\"\"\"\n",
    "    sorted_dict = dict(sorted(input_dict.items(), key=lambda item: item[1], reverse=not ascending))\n",
    "    return sorted_dict\n",
    "\n",
    "# Example usage:\n",
    "input_dict = {'apple': 5, 'banana': 2, 'orange': 8, 'grape': 1}\n",
    "sorted_asc = sort_dict_by_values(input_dict, ascending=True)\n",
    "sorted_desc = sort_dict_by_values(input_dict, ascending=False)\n",
    "\n",
    "print(\"Sorted in ascending order:\", sorted_asc)\n",
    "print(\"Sorted in descending order:\", sorted_desc)\n"
   ]
  },
  {
   "cell_type": "markdown",
   "id": "3992137f-680d-45c8-a4c0-67aece074341",
   "metadata": {},
   "source": [
    "### 35. Write a code that inverts a dictionary, swapping keys and values. Ensure that the inverted dictionary correctly handles cases where multiple keys have the same value by storing the keys as a list in the inverted dictionary."
   ]
  },
  {
   "cell_type": "code",
   "execution_count": 16,
   "id": "c392e580-4fe2-4c13-b96a-6b8616eb9fb7",
   "metadata": {},
   "outputs": [
    {
     "name": "stdout",
     "output_type": "stream",
     "text": [
      "Inverted dictionary: {1: ['a'], 2: ['b', 'd'], 3: ['c']}\n"
     ]
    }
   ],
   "source": [
    "def invert_dictionary(input_dict):\n",
    "    \"\"\"Invert a dictionary, storing keys as lists if there are duplicate values.\"\"\"\n",
    "    inverted_dict = {}\n",
    "    for key, value in input_dict.items():\n",
    "        if value in inverted_dict:\n",
    "            inverted_dict[value].append(key)\n",
    "        else:\n",
    "            inverted_dict[value] = [key]\n",
    "    return inverted_dict\n",
    "\n",
    "# Example usage:\n",
    "original_dict = {'a': 1, 'b': 2, 'c': 3, 'd': 2}\n",
    "inverted_dict = invert_dictionary(original_dict)\n",
    "print(\"Inverted dictionary:\", inverted_dict)"
   ]
  }
 ],
 "metadata": {
  "kernelspec": {
   "display_name": "Python 3 (ipykernel)",
   "language": "python",
   "name": "python3"
  },
  "language_info": {
   "codemirror_mode": {
    "name": "ipython",
    "version": 3
   },
   "file_extension": ".py",
   "mimetype": "text/x-python",
   "name": "python",
   "nbconvert_exporter": "python",
   "pygments_lexer": "ipython3",
   "version": "3.10.8"
  }
 },
 "nbformat": 4,
 "nbformat_minor": 5
}
