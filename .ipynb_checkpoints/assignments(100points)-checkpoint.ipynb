{
 "cells": [
  {
   "cell_type": "markdown",
   "id": "2500d190-1078-4c6d-815b-0634157265eb",
   "metadata": {},
   "source": [
    "# 1. Write a code to reverse a string."
   ]
  },
  {
   "cell_type": "code",
   "execution_count": 4,
   "id": "75c0c706-bcfc-4995-83e4-38ec8db6ac17",
   "metadata": {},
   "outputs": [
    {
     "name": "stdout",
     "output_type": "stream",
     "text": [
      "jihgfedcba\n"
     ]
    }
   ],
   "source": [
    "str=\"abcdefghij\"\n",
    "print(str[::-1])"
   ]
  },
  {
   "cell_type": "markdown",
   "id": "837c7ce3-b2f5-4de0-ad24-1baffd34cd80",
   "metadata": {},
   "source": [
    "# 2. Write a code to count the number of vowels in string."
   ]
  },
  {
   "cell_type": "code",
   "execution_count": 3,
   "id": "e38a853c-beb6-43cc-8e61-5c995af5e2d3",
   "metadata": {},
   "outputs": [
    {
     "name": "stdout",
     "output_type": "stream",
     "text": [
      "5\n"
     ]
    }
   ],
   "source": [
    "str2=\"abcdefghijklmnopqrstuvwxyz\"\n",
    "vowels=\"aeiouAEIOU\"\n",
    "count=sum(str2.count(vowel) for vowel in vowels)  \n",
    "print(count)\n",
    "\n"
   ]
  },
  {
   "cell_type": "code",
   "execution_count": 5,
   "id": "71698740-3b29-4394-8481-5a62bee44f04",
   "metadata": {},
   "outputs": [
    {
     "name": "stdout",
     "output_type": "stream",
     "text": [
      "5\n"
     ]
    }
   ],
   "source": [
    "cnt=0\n",
    "for vowel in vowels:\n",
    "    if(vowel in str2):\n",
    "        cnt=cnt+1\n",
    "print(cnt)        "
   ]
  },
  {
   "cell_type": "markdown",
   "id": "7e1cdca3-7bdf-4530-a894-f0e33cadfb07",
   "metadata": {},
   "source": [
    "# 3. Write a code to check if a given string is a palindrome."
   ]
  },
  {
   "cell_type": "code",
   "execution_count": 9,
   "id": "2f1cfd3e-baa3-408e-a4ed-72c6692f1fd7",
   "metadata": {},
   "outputs": [
    {
     "name": "stdout",
     "output_type": "stream",
     "text": [
      "It is a Palindrome\n"
     ]
    }
   ],
   "source": [
    "str3=\"abcdcba\"\n",
    "str3_2=str3[::-1]\n",
    "if(str3==str3_2):\n",
    "   print(\"It is a Palindrome\")\n",
    "else:\n",
    "   print(\"It is not a Palindrome\")"
   ]
  },
  {
   "cell_type": "markdown",
   "id": "970c9875-3785-484c-8645-0b1b03564466",
   "metadata": {},
   "source": [
    "# 4. Write a code to check if two given strings are anagrams of each other."
   ]
  },
  {
   "cell_type": "code",
   "execution_count": 13,
   "id": "7b1bd2cd-9fb5-4291-94b4-1065e193f159",
   "metadata": {},
   "outputs": [
    {
     "name": "stdout",
     "output_type": "stream",
     "text": [
      "race and care are anagrams\n"
     ]
    }
   ],
   "source": [
    "str1=\"Race\"\n",
    "str2=\"Care\"\n",
    "str1=str1.lower()\n",
    "str2=str2.lower()\n",
    "if(len(str1)==len(str2)):\n",
    "    sorted_str1=sorted(str1)\n",
    "    sorted_str2=sorted(str2)\n",
    "    if(sorted_str1==sorted_str2):\n",
    "        print(str1+\" and \"+str2+ \" are anagrams\" )\n",
    "    else:\n",
    "        print(str1+\" and \"+str2+ \" are not anagrams\")\n",
    "else:\n",
    "    print(str1+\" and \"+str2+ \" are not anagrams\")\n",
    "    "
   ]
  },
  {
   "cell_type": "markdown",
   "id": "939de776-2e02-476a-9e38-d41bbf367280",
   "metadata": {
    "tags": []
   },
   "source": [
    "# 5. Write a code to find all the occurrences of a given substring within another string."
   ]
  },
  {
   "cell_type": "code",
   "execution_count": 19,
   "id": "7f15488f-f3f2-4544-8bab-a748358b848d",
   "metadata": {},
   "outputs": [
    {
     "name": "stdout",
     "output_type": "stream",
     "text": [
      "0 10 "
     ]
    }
   ],
   "source": [
    "str=\"helloworldhello\"\n",
    "s=\"hello\"\n",
    "flag = False\n",
    "\n",
    "for i in range(len(str)):\n",
    "    if(str[i:i+len(s)]==s):\n",
    "        print(i,end=\" \")\n",
    "        flag=True\n",
    "if(flag==False):\n",
    "    print(\"NONE\")\n",
    "        "
   ]
  },
  {
   "cell_type": "markdown",
   "id": "8dcf5a5f-545f-4090-94a0-59ac0c8f9240",
   "metadata": {},
   "source": [
    "# 6. Write a code to perform basic string compression using the counts of repeated characters."
   ]
  },
  {
   "cell_type": "code",
   "execution_count": 20,
   "id": "48352eb8-3e9f-4aed-b4b0-432b2ded215e",
   "metadata": {},
   "outputs": [
    {
     "name": "stdout",
     "output_type": "stream",
     "text": [
      "a2b1c5a3\n"
     ]
    }
   ],
   "source": [
    "s = \"aabcccccaaa\"\n",
    "\n",
    "if s:\n",
    "    compressed = []\n",
    "    count = 1\n",
    "\n",
    "    for i in range(1, len(s)):\n",
    "        if s[i] == s[i - 1]:\n",
    "            count += 1\n",
    "        else:\n",
    "            compressed.append(f\"{s[i - 1]}{count}\")\n",
    "            count = 1\n",
    "    compressed.append(f\"{s[-1]}{count}\")\n",
    "\n",
    "    compressed_string = ''.join(compressed)\n",
    "    result = compressed_string if len(compressed_string) < len(s) else s\n",
    "else:\n",
    "    result = \"\"\n",
    "\n",
    "print(result)  # Output: a2b1c5a3"
   ]
  },
  {
   "cell_type": "markdown",
   "id": "cd3610f1-1233-458b-b197-25be1ce878f0",
   "metadata": {},
   "source": [
    "# 7. Write a code to determine if a string has all unique characters."
   ]
  },
  {
   "cell_type": "code",
   "execution_count": 31,
   "id": "b3f98951-6683-424d-87eb-43db87e7db08",
   "metadata": {},
   "outputs": [
    {
     "name": "stdout",
     "output_type": "stream",
     "text": [
      "True\n"
     ]
    }
   ],
   "source": [
    "from collections import Counter\n",
    " \n",
    " \n",
    "def isUniqueChars(string):\n",
    " \n",
    "    # Counting frequency\n",
    "    freq = Counter(string)\n",
    " \n",
    "    if(len(freq) == len(string)):\n",
    "        return True\n",
    "    else:\n",
    "        return False\n",
    " \n",
    "# driver code\n",
    "st = \"abcde\"\n",
    "print(isUniqueChars(st))\n",
    "# This code is contributed by vikkycirus"
   ]
  },
  {
   "cell_type": "code",
   "execution_count": 46,
   "id": "914683cd-e80d-4211-9457-28b72a105ec7",
   "metadata": {},
   "outputs": [
    {
     "name": "stdout",
     "output_type": "stream",
     "text": [
      "not Unique\n"
     ]
    }
   ],
   "source": [
    "str=\"abcd\"\n",
    "a=\"\"\n",
    "flag=True\n",
    "for i in str:\n",
    "    if (i in a):\n",
    "        flag=False\n",
    "        break\n",
    "    else:\n",
    "        a=a+i\n",
    "if(flag==True):\n",
    "    print(\"Unique\")\n",
    "else:\n",
    "    print(\"not Unique\")"
   ]
  },
  {
   "cell_type": "code",
   "execution_count": 40,
   "id": "ebe3be95-2528-41a3-aab7-90a4b01866f6",
   "metadata": {},
   "outputs": [
    {
     "name": "stdout",
     "output_type": "stream",
     "text": [
      "True\n"
     ]
    }
   ],
   "source": [
    "def isUniqueChars(string):\n",
    " \n",
    "    for i in string:\n",
    "        if string.count(i) > 1:\n",
    "            return False\n",
    "    return True\n",
    " \n",
    " \n",
    "st = \"abcd\"\n",
    "print(isUniqueChars(st))"
   ]
  },
  {
   "cell_type": "markdown",
   "id": "b938ef11-9c7c-45c9-9c23-5fc2825ad50c",
   "metadata": {},
   "source": [
    "# 8. Write a code to convert a given string to uppercase or lowercase."
   ]
  },
  {
   "cell_type": "code",
   "execution_count": 53,
   "id": "ed0cfad7-653e-4600-94b3-2bdd83de69cd",
   "metadata": {},
   "outputs": [
    {
     "name": "stdout",
     "output_type": "stream",
     "text": [
      "converting to upper case - HELLOWORLD\n",
      "converting to lower case - helloworld\n"
     ]
    }
   ],
   "source": [
    "def to_upper(str):\n",
    "    str=str.upper()\n",
    "    return str\n",
    "def to_lower(str):\n",
    "    str=str.lower()\n",
    "    return str\n",
    "\n",
    "str=\"HelloWorld\"\n",
    "print(\"converting to upper case -\",to_upper(str))\n",
    "print(\"converting to lower case -\",to_lower(str))\n"
   ]
  },
  {
   "cell_type": "markdown",
   "id": "4d1297a9-ba7d-4e68-b94e-5a91d79c2ef0",
   "metadata": {},
   "source": [
    "# 9. Write a code to count the number of words "
   ]
  },
  {
   "cell_type": "code",
   "execution_count": 58,
   "id": "0030a1fa-294e-432f-962f-dfbcada77be6",
   "metadata": {},
   "outputs": [
    {
     "name": "stdout",
     "output_type": "stream",
     "text": [
      "6\n"
     ]
    }
   ],
   "source": [
    "print(len(\"Geeksforgeeks is best Computer Science Portal\".split()))"
   ]
  },
  {
   "cell_type": "markdown",
   "id": "14fcbcfb-eeaa-4945-93f4-6ad97e3067e5",
   "metadata": {},
   "source": [
    "# 10.  Write a code to concatenate two strings without using the + operator."
   ]
  },
  {
   "cell_type": "code",
   "execution_count": 68,
   "id": "4d99245a-332e-4473-807e-fb6fb5c3ffac",
   "metadata": {},
   "outputs": [
    {
     "data": {
      "text/plain": [
       "'hello   world'"
      ]
     },
     "execution_count": 68,
     "metadata": {},
     "output_type": "execute_result"
    }
   ],
   "source": [
    "str1=\"hello\"\n",
    "str2=\"world\"\n",
    "str3=\" \".join([str1,str2])\n",
    "str3"
   ]
  },
  {
   "cell_type": "code",
   "execution_count": 71,
   "id": "0a706f94-c2dd-409c-8b61-ab75fb399680",
   "metadata": {},
   "outputs": [
    {
     "data": {
      "text/plain": [
       "'hello world'"
      ]
     },
     "execution_count": 71,
     "metadata": {},
     "output_type": "execute_result"
    }
   ],
   "source": [
    "var1=\"hello\"\n",
    "var2=\"world\"\n",
    "var3=\"{} {}\".format(var1,var2)\n",
    "var3"
   ]
  },
  {
   "cell_type": "code",
   "execution_count": 72,
   "id": "3b50b38e-d58e-4da2-a1d2-ac094d9cdbaa",
   "metadata": {},
   "outputs": [
    {
     "data": {
      "text/plain": [
       "'hello world'"
      ]
     },
     "execution_count": 72,
     "metadata": {},
     "output_type": "execute_result"
    }
   ],
   "source": [
    "var1=\"hello\"\n",
    "var2=\"world\"\n",
    "var3=f\"{var1} {var2}\"\n",
    "var3"
   ]
  },
  {
   "cell_type": "code",
   "execution_count": null,
   "id": "37925aca-c033-477a-b5c4-a1d3d77162d2",
   "metadata": {},
   "outputs": [],
   "source": []
  }
 ],
 "metadata": {
  "kernelspec": {
   "display_name": "Python 3 (ipykernel)",
   "language": "python",
   "name": "python3"
  },
  "language_info": {
   "codemirror_mode": {
    "name": "ipython",
    "version": 3
   },
   "file_extension": ".py",
   "mimetype": "text/x-python",
   "name": "python",
   "nbconvert_exporter": "python",
   "pygments_lexer": "ipython3",
   "version": "3.10.8"
  }
 },
 "nbformat": 4,
 "nbformat_minor": 5
}
